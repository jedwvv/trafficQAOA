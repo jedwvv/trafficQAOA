{
 "cells": [
  {
   "cell_type": "code",
   "execution_count": 58,
   "metadata": {},
   "outputs": [],
   "source": [
    "# Import Required Packages\n",
    "%matplotlib inline\n",
    "import numpy as np\n",
    "#import networkx as nx\n",
    "import time\n",
    "import random\n",
    "import json\n",
    "import pickle\n",
    "import matplotlib as mpl\n",
    "import matplotlib.pyplot as plt\n",
    "from matplotlib import cm\n",
    "from sympy import *\n",
    "from tqdm.notebook import tqdm\n",
    "\n",
    "#From Qiskit library\n",
    "from qiskit import *\n",
    "from qiskit.visualization import *\n",
    "from qiskit import IBMQ\n",
    "from qiskit import BasicAer\n",
    "from qiskit import Aer, execute\n",
    "from qiskit.tools.visualization import plot_histogram, plot_state_city\n",
    "from qiskit.aqua.algorithms import QAOA, NumPyMinimumEigensolver\n",
    "from qiskit.optimization.algorithms import MinimumEigenOptimizer, RecursiveMinimumEigenOptimizer\n",
    "from qiskit.optimization import QuadraticProgram\n",
    "from qiskit.optimization.converters import QuadraticProgramToQubo\n",
    "from qiskit.quantum_info import Statevector\n",
    "from qiskit.providers.aer import StatevectorSimulator, QasmSimulator\n",
    "from qiskit.circuit import Parameter\n",
    "from qiskit.optimization.converters import IsingToQuadraticProgram\n",
    "from qiskit.aqua.components.optimizers import NELDER_MEAD, CRS, ADAM"
   ]
  },
  {
   "cell_type": "code",
   "execution_count": 59,
   "metadata": {},
   "outputs": [
    {
     "data": {
      "text/plain": [
       "{'qiskit-terra': '0.16.1',\n",
       " 'qiskit-aer': '0.7.1',\n",
       " 'qiskit-ignis': '0.5.1',\n",
       " 'qiskit-ibmq-provider': '0.11.1',\n",
       " 'qiskit-aqua': '0.8.1',\n",
       " 'qiskit': '0.23.1'}"
      ]
     },
     "execution_count": 59,
     "metadata": {},
     "output_type": "execute_result"
    }
   ],
   "source": [
    "qiskit.qiskit.__qiskit_version__"
   ]
  },
  {
   "cell_type": "code",
   "execution_count": 60,
   "metadata": {},
   "outputs": [],
   "source": [
    "#Function: Load JSON file\n",
    "def loadjson( filename ):\n",
    "    loaded_file = open(filename, \"r\")\n",
    "    json_data = json.load(loaded_file)\n",
    "    loaded_file.close()\n",
    "    return json_data\n",
    "\n",
    "#Function: Load Pickle file\n",
    "def loadpkl( filename ):\n",
    "    loaded_file = open(filename, \"rb\")\n",
    "    pkl_data = pickle.load( loaded_file )\n",
    "    loaded_file.close()\n",
    "    return pkl_data\n",
    "\n",
    "#Function: Get single term coefficients (to 4 decimal places) from Sympy Expression \n",
    "def get_coeff( variable, expression ):\n",
    "    poly = Poly(expression.coeff(variable), domain = 'RR')\n",
    "    return round(float(poly.coeffs()[len(poly.coeffs())-1]), 4)\n",
    "\n",
    "#Function: Get coefficient of quadratic term (to 4 decimal places) from Sympy Expression\n",
    "def quad_coeff( var_1, var_2, expression ):\n",
    "    return round(float(expression.coeff(var_1).coeff(var_2)), 4)"
   ]
  },
  {
   "cell_type": "code",
   "execution_count": 61,
   "metadata": {},
   "outputs": [
    {
     "data": {
      "text/plain": [
       "'/home/jedwin/trafficQAOA'"
      ]
     },
     "execution_count": 61,
     "metadata": {},
     "output_type": "execute_result"
    }
   ],
   "source": [
    "pwd"
   ]
  },
  {
   "cell_type": "code",
   "execution_count": 62,
   "metadata": {},
   "outputs": [
    {
     "data": {
      "text/plain": [
       "'/home/jedwin/anaconda3/envs/QC/bin/python'"
      ]
     },
     "execution_count": 62,
     "metadata": {},
     "output_type": "execute_result"
    }
   ],
   "source": [
    "import sys\n",
    "sys.executable"
   ]
  },
  {
   "cell_type": "code",
   "execution_count": 63,
   "metadata": {},
   "outputs": [],
   "source": [
    "#Read and store files into variables\n",
    "car_routes = loadjson( \"3cars3routes.json\" )\n",
    "# H = loadjson( \"Hamiltonian9qbits.json\")\n",
    "# [objective, Ham, objective_normed, Ham_normed] = loadpkl(\"expressions.pkl\")\n",
    "[total_cost, constraints] = loadpkl(\"cost_constraints.pkl\")"
   ]
  },
  {
   "cell_type": "code",
   "execution_count": 64,
   "metadata": {},
   "outputs": [
    {
     "data": {
      "text/plain": [
       "{'car1_route1': Q[1, 1],\n",
       " 'car1_route2': Q[1, 2],\n",
       " 'car1_route3': Q[1, 3],\n",
       " 'car2_route1': Q[2, 1],\n",
       " 'car2_route2': Q[2, 2],\n",
       " 'car2_route3': Q[2, 3],\n",
       " 'car3_route1': Q[3, 1],\n",
       " 'car3_route2': Q[3, 2],\n",
       " 'car3_route3': Q[3, 3]}"
      ]
     },
     "execution_count": 64,
     "metadata": {},
     "output_type": "execute_result"
    }
   ],
   "source": [
    "Q = IndexedBase('Q')\n",
    "car_routes_variables = {}\n",
    "for route in car_routes:\n",
    "    car_routes_variables[route] = Q[route[3],route[10]]\n",
    "car_routes_variables"
   ]
  },
  {
   "cell_type": "code",
   "execution_count": 65,
   "metadata": {},
   "outputs": [],
   "source": [
    "no_routes = 3\n",
    "no_cars = 3\n",
    "no_qubits = no_routes * no_cars"
   ]
  },
  {
   "cell_type": "code",
   "execution_count": 66,
   "metadata": {},
   "outputs": [],
   "source": [
    "#Associate binary variable to each Q11, Q12, etc with one index for QuadraticProgram class\n",
    "binary_vars = {}\n",
    "for variable in car_routes_variables:\n",
    "    binary_vars[car_routes_variables[variable]] = 'X' + str(no_routes*(int(variable[3])-1)+int(variable[10]))\n",
    "Qvariables = tuple(binary_vars.keys())\n",
    "Xvariables = tuple(binary_vars.values())"
   ]
  },
  {
   "cell_type": "code",
   "execution_count": 67,
   "metadata": {},
   "outputs": [],
   "source": [
    "#Construct Quadratic Problem using known (quadratic) objective function\n",
    "penalty = 132*1.2\n",
    "qubo1 = QuadraticProgram()\n",
    "linear = []\n",
    "for variable in car_routes_variables.values():\n",
    "    qubo1.binary_var( binary_vars[variable] )\n",
    "    linear.append( get_coeff(variable, total_cost) )\n",
    "quadratic = {}\n",
    "for i in range(no_qubits):\n",
    "    for j in range(i+1, no_qubits):\n",
    "        pairing = ( Xvariables[i], Xvariables[j] )\n",
    "        coeff = quad_coeff( Qvariables[i], Qvariables[j], total_cost )\n",
    "        if int(coeff) != 0:\n",
    "            quadratic[pairing] = coeff\n",
    "qubo1.minimize(linear = linear, quadratic = quadratic)\n",
    "\n",
    "#Add constraints\n",
    "for car in constraints:\n",
    "    i = 3*(int(car[3])-1) #to specify index of variable on next line\n",
    "    qubo1.linear_constraint(linear={'X'+str(i+1): 1, 'X'+str(i+2): 1, 'X'+str(i+3): 1}, sense='==', rhs=1, name=str(car))\n",
    "\n",
    "#Convert constrained Quadratic Problem into QUBO\n",
    "converter = QuadraticProgramToQubo(penalty = penalty)\n",
    "qubo1 = converter.convert(qubo1)"
   ]
  },
  {
   "cell_type": "code",
   "execution_count": 68,
   "metadata": {},
   "outputs": [],
   "source": [
    "op, offset = qubo1.to_ising()"
   ]
  },
  {
   "cell_type": "code",
   "execution_count": 69,
   "metadata": {},
   "outputs": [],
   "source": [
    "coeffs = [abs(op.oplist[i].coeff) for i in range(len(op.oplist))]\n",
    "norm_factor = np.amax(coeffs)"
   ]
  },
  {
   "cell_type": "code",
   "execution_count": 70,
   "metadata": {},
   "outputs": [],
   "source": [
    "#Normalised objective function\n",
    "qubo = QuadraticProgram()\n",
    "linear = []\n",
    "for variable in car_routes_variables.values():\n",
    "    qubo.binary_var( binary_vars[variable] )\n",
    "    linear.append( (get_coeff(variable, total_cost)/norm_factor) )\n",
    "quadratic = {}\n",
    "for i in range(no_qubits):\n",
    "    for j in range(i+1, no_qubits):\n",
    "        pairing = ( Xvariables[i], Xvariables[j] )\n",
    "        coeff = quad_coeff( Qvariables[i], Qvariables[j], total_cost )\n",
    "        if int(coeff) != 0:\n",
    "            quadratic[pairing] = (coeff/norm_factor)\n",
    "qubo.minimize(linear = linear, quadratic = quadratic)\n",
    "\n",
    "#Add constraints\n",
    "for car in constraints:\n",
    "    i = 3*(int(car[3])-1) #to specify index of variable on next line\n",
    "    qubo.linear_constraint(linear={'X'+str(i+1): 1, 'X'+str(i+2): 1, 'X'+str(i+3): 1}, sense='==', rhs=1, name=str(car))\n",
    "\n",
    "#Convert constrained Quadratic Problem into QUBO\n",
    "converter = QuadraticProgramToQubo(penalty = penalty/norm_factor)\n",
    "qubo = converter.convert(qubo)"
   ]
  },
  {
   "cell_type": "code",
   "execution_count": 81,
   "metadata": {},
   "outputs": [],
   "source": [
    "op, offset = qubo.to_ising()"
   ]
  },
  {
   "cell_type": "code",
   "execution_count": 72,
   "metadata": {},
   "outputs": [],
   "source": [
    "qaoa_mes = QAOA(quantum_instance=Aer.get_backend('statevector_simulator'))\n",
    "exact_mes = NumPyMinimumEigensolver()\n",
    "qaoa = MinimumEigenOptimizer(qaoa_mes)   # using QAOA\n",
    "exact = MinimumEigenOptimizer(exact_mes)  # using the exact classical numpy minimum eigen solver"
   ]
  },
  {
   "cell_type": "code",
   "execution_count": 73,
   "metadata": {},
   "outputs": [
    {
     "name": "stdout",
     "output_type": "stream",
     "text": [
      "optimal function value: 1.2999467234949391\n",
      "optimal value: [0. 1. 0. 0. 1. 0. 1. 0. 0.]\n",
      "status: SUCCESS\n",
      "CPU times: user 89.8 ms, sys: 4.09 ms, total: 93.9 ms\n",
      "Wall time: 91.1 ms\n"
     ]
    }
   ],
   "source": [
    "%%time\n",
    "exact_result = exact.solve(qubo)\n",
    "print(exact_result)"
   ]
  },
  {
   "cell_type": "code",
   "execution_count": 82,
   "metadata": {},
   "outputs": [],
   "source": [
    "#Binary string x of length 9, using cost/obj function from QUBO on QuadraticProgram qp.\n",
    "def eval_cost(x, qubo_problem):\n",
    "    return qubo_problem.objective.evaluate([int(x[no_qubits-1-i]) for i in range(no_qubits)])"
   ]
  },
  {
   "cell_type": "code",
   "execution_count": 23,
   "metadata": {},
   "outputs": [
    {
     "name": "stdout",
     "output_type": "stream",
     "text": [
      "001010010 1.3 True\n",
      "001001010 1.364 True\n",
      "100001010 1.502 True\n",
      "001010001 1.513 True\n",
      "010001010 1.534 True\n",
      "100010010 1.545 True\n",
      "010010001 1.556 True\n",
      "010010010 1.566 True\n",
      "000001010 1.568 False\n",
      "001000010 1.568 False\n",
      "001100010 1.577 True\n",
      "001001100 1.588 True\n",
      "010001100 1.63 True\n",
      "100010001 1.63 True\n",
      "001010100 1.63 True\n",
      "100001100 1.705 True\n",
      "000010001 1.718 False\n",
      "001010000 1.718 False\n",
      "010010100 1.769 True\n",
      "000001100 1.792 False\n"
     ]
    }
   ],
   "source": [
    "#Print first 20 lowest states\n",
    "values = {}\n",
    "for k in range(2**9):\n",
    "    string = '{0:09b}'.format(k)\n",
    "    values[string] = eval_cost(string, qubo)\n",
    "sort_values = sorted(values.items(), key=lambda x: x[1])\n",
    "i=0\n",
    "for string, cost in sort_values:\n",
    "    print(string, round(cost,3), string[0:3].count('1')==1 and string[3:6].count('1')==1 and string[6:9].count('1')==1)\n",
    "    i += 1\n",
    "    if i == 20:\n",
    "        break"
   ]
  },
  {
   "cell_type": "code",
   "execution_count": 91,
   "metadata": {},
   "outputs": [],
   "source": [
    "#Use statevector with GPU to simulate slightly faster for less than ~25 qubits\n",
    "#If more than 25 qubits, use method = \"statevector\" (CPU) instead.\n",
    "\n",
    "simulator = QasmSimulator()\n",
    "optimizer = NELDER_MEAD(maxiter = 2)"
   ]
  },
  {
   "cell_type": "code",
   "execution_count": 92,
   "metadata": {},
   "outputs": [],
   "source": [
    "#Construct QAOA circuit of size p given operator from qubo problem ( operator is obtained from QuadraticProblem.to_ising() )\n",
    "def construct_QAOAcirc( p, operator ):\n",
    "    #Initialise parameter list\n",
    "    params_expr = []\n",
    "    \n",
    "    #Create arbitrary \"gamma_n\" parameters\n",
    "    for a in range(p):\n",
    "        params_expr.append( Parameter('a'+str(a+1)) )\n",
    "    #Likewise for \"beta_n\" parameters\n",
    "    for b in range(p):\n",
    "        params_expr.append( Parameter('b'+str(b+1)) )\n",
    "        \n",
    "    #Create circuit given operator, gamma, and beta parameters\n",
    "    qaoa = QAOA(operator = operator, p=p, quantum_instance=Aer.get_backend('qasm_simulator'))\n",
    "    circuit = qaoa.construct_circuit( params_expr[0:2*p] )[0]\n",
    "    circuit.measure_active()\n",
    "    return p, params_expr, circuit\n",
    "\n",
    "\n",
    "#Find expectation value, given qaoa_circuit, qubo_problem and freq_params (u1, u2, ... , v1, v2, ...)\n",
    "def expectation( qaoa_circuit, qubo_problem, freq_params ):\n",
    "    \n",
    "    #unload p, params_expr, circuit from the return value of contruct_QAOAcirc\n",
    "    p = int(qaoa_circuit[0])\n",
    "    params_expr = qaoa_circuit[1]\n",
    "    circuit = qaoa_circuit[2]\n",
    "    params = convert_fourier_parameters(p,p,freq_params)\n",
    "    if len(params) != 2*p:\n",
    "        print(\"Must have len(params) = 2*no_layers\")\n",
    "    else:    \n",
    "        circuit2 = circuit.assign_parameters({params_expr[i]: params[i] for i in range(len(params))}, inplace = False)\n",
    "        no_shots = 100000\n",
    "        result = execute(circuit2, simulator, shots = no_shots).result()\n",
    "        counts = result.get_counts()\n",
    "        exp_val = 0\n",
    "        for state in counts:\n",
    "            a = counts[state]\n",
    "            b = eval_cost(state, qubo_problem)\n",
    "            exp_val += a*b        \n",
    "        exp_val /= no_shots\n",
    "        print(\".\", end = \"\")\n",
    "        return np.round(exp_val, decimals = 1)\n",
    "\n",
    "#Convert frequency parameters to standard gamma and beta parameters\n",
    "def convert_fourier_parameters(p , q, frequency_parameters):\n",
    "    u_params = np.array(frequency_parameters[0:q], dtype = float)\n",
    "    v_params = np.array(frequency_parameters[q:2*q], dtype = float)\n",
    "    gamma_params = np.empty((p,), dtype = np.float32)\n",
    "    beta_params = np.empty((p,), dtype = np.float32)\n",
    "    for i in range(p):\n",
    "        gamma_inter, beta_inter = 0,0\n",
    "        a = (i+0.5)*np.pi/p\n",
    "        for k in range(q):\n",
    "            gamma_inter += u_params[k]*np.sin( (k+0.5)*a )\n",
    "            beta_inter += v_params[k]*np.cos( (k+0.5)*a )\n",
    "        gamma_params[i] = gamma_inter\n",
    "        beta_params[i] = beta_inter\n",
    "    return np.append(gamma_params, beta_params)\n",
    "    \n",
    "#Binary string x of length 9, using cost/obj function from QUBO on QuadraticProgram qp.\n",
    "def eval_cost(x, qubo_problem):\n",
    "    y = [int(x[no_qubits-1-i]) for i in range(no_qubits)] #reverse order\n",
    "    value = qubo_problem.objective.evaluate(y)\n",
    "    return value"
   ]
  },
  {
   "cell_type": "markdown",
   "metadata": {},
   "source": [
    "Inputs: QAOA problem, no_layers, u_v_L, u_v_B, no_perturb\n",
    "\n",
    "1. Unload operator from QAOA problem\n",
    "2. Construct circuit with parameters for no_layers\n",
    "3. Generate no_perturb number of parameters about u_v_B\n",
    "4. Optimize around the u_v_L, u_v_B, and the perturbed u_v_B's\n",
    "5. Choose best for the new u_v_B, and also the new u_v_L\n",
    "6. Return the new u_v_B, and the new u_v_B\n",
    "\n",
    "Note: Make sure u_v_L = (u1, u2, ..., v1, v2, ...) has 2*(no_layers - 1) "
   ]
  },
  {
   "cell_type": "code",
   "execution_count": 93,
   "metadata": {},
   "outputs": [],
   "source": [
    "def optimize_qubo(qubo_problem, p, freq_optimal_params_L, freq_optimal_params_B, no_perturb):\n",
    "    perturb_scale_factor = 0.6\n",
    "    op, offset = qubo_problem.to_ising()\n",
    "    generator = np.random.default_rng()\n",
    "    variable_bounds = [ (-np.pi/2, np.pi/2) for _ in range(2*p)]\n",
    "    if len(freq_optimal_params_L) != len(freq_optimal_params_B) and len(freq_optimal_params_B) != (p-1)*2:\n",
    "        print('Check number of input parameters are correct')\n",
    "        return None\n",
    "    \n",
    "    #Construct circuit\n",
    "    print(f'Step {p}: Building circuit...')\n",
    "    circuit = construct_QAOAcirc(p, op)\n",
    "    \n",
    "    #New initial points generated from previous initial points\n",
    "    params = np.zeros(shape = (2*p,), dtype=float)+0.05  \n",
    "    initial_freq_params_L = params.copy()\n",
    "    initial_freq_params_B_0 = params.copy()\n",
    "    initial_freq_params_L[0:p-1] = freq_optimal_params_L[0:p-1]\n",
    "    initial_freq_params_L[p:2*p-1] = freq_optimal_params_L[p-1:2*p-2]\n",
    "    initial_freq_params_B_0[0:p-1] = freq_optimal_params_B[0:p-1]\n",
    "    initial_freq_params_B_0[p:2*p-1] = freq_optimal_params_B[p-1:2*p-2]\n",
    "    \n",
    "    #Generate perturbed initial points     \n",
    "    if p != 1:\n",
    "        initial_freq_params_B = np.empty(shape = (no_perturb+2, ), dtype = object)\n",
    "        initial_freq_params_B[0] = initial_freq_params_B_0\n",
    "        u_random = np.array([np.array(generator.normal(0, freq_optimal_params_B[i]**2, no_perturb+1)) for i in range(0,p-1)])\n",
    "        v_random = np.array([np.array(generator.normal(0, freq_optimal_params_B[i]**2, no_perturb+1)) for i in range(p-1,2*p-2)])\n",
    "        m = len(initial_freq_params_B)\n",
    "        for j in range(1,m-1):\n",
    "            perturbed_params = params.copy()\n",
    "            perturbed_params[0:p-1] = initial_freq_params_B_0[0:p-1] + perturb_scale_factor*u_random[:,j]\n",
    "            perturbed_params[p:2*p-1] = initial_freq_params_B_0[p:2*p-1] + perturb_scale_factor*v_random[:,j]\n",
    "            initial_freq_params_B[j] = perturbed_params\n",
    "        initial_freq_params_B[m-1] = initial_freq_params_B[0]\n",
    "        \n",
    "    print(f'Step {p}: Now optimising parameters (Nelder-Mead)...')\n",
    "    ##Define obj_function that inputs only parameters\n",
    "    obj_expectation = lambda x: expectation( circuit, qubo_problem, x ) \n",
    "    print('\\n'+'initial freq point L:', initial_freq_params_L)\n",
    "    optimal_result = optimizer.optimize(num_vars = 2*p,\n",
    "                                        objective_function = obj_expectation,\n",
    "                                        variable_bounds = variable_bounds, \n",
    "                                        initial_point = initial_freq_params_L)\n",
    "    optimal_params_L, exp_val_L, no_evals = optimal_result\n",
    "    \n",
    "    if p == 1:\n",
    "        optimal_params_B, exp_val_B = optimal_params_L, exp_val_L\n",
    "    \n",
    "    else:\n",
    "        perturbed_params = [optimal_params_L]\n",
    "        perturbed_exp_vals = [exp_val_L]\n",
    "        print(initial_freq_params_B)\n",
    "        for l in range(m):\n",
    "            print('\\n'+f'{l}, initial freq point B: ', initial_freq_params_B[l])\n",
    "            if l == m-1:\n",
    "                break\n",
    "            perturbed_optimal_result = optimizer.optimize(num_vars = 2*p,\n",
    "                                    objective_function = obj_expectation,\n",
    "                                    variable_bounds= variable_bounds, \n",
    "                                    initial_point=initial_freq_params_B[l])\n",
    "            print('\\nNelderMeadcomplete')\n",
    "            perturbed_optimal_params, perturbed_optimal_expval = perturbed_optimal_result[0:2] \n",
    "            perturbed_params.append(perturbed_optimal_params)\n",
    "            perturbed_exp_vals.append(perturbed_exp_vals)\n",
    "        exp_val_B = np.amin(perturbed_exp_vals)\n",
    "        minim_index = np.awhere(perturbed_exp_vals == exp_val_B)[0][0]\n",
    "        optimal_params_B = perturbed_params[minim_index]\n",
    "    \n",
    "    return optimal_params_L, optimal_params_B"
   ]
  },
  {
   "cell_type": "code",
   "execution_count": 94,
   "metadata": {
    "scrolled": true
   },
   "outputs": [
    {
     "name": "stdout",
     "output_type": "stream",
     "text": [
      "Step 1: Building circuit...\n",
      "Step 1: Now optimising parameters (Nelder-Mead)...\n",
      "\n",
      "initial freq point L: [0.05 0.05]\n",
      "......."
     ]
    }
   ],
   "source": [
    "optimal_params_L_1, optimal_params_B_1 = optimize_qubo(qubo, 1, [], [], 1)"
   ]
  },
  {
   "cell_type": "code",
   "execution_count": null,
   "metadata": {},
   "outputs": [
    {
     "name": "stdout",
     "output_type": "stream",
     "text": [
      "Step 2: Building circuit...\n",
      "Step 2: Now optimising parameters (Nelder-Mead)...\n",
      "\n",
      "initial freq point L: [0.05 0.05 0.05 0.05]\n",
      "......[array([0.05, 0.05, 0.05, 0.05])\n",
      " array([0.05003811, 0.05      , 0.04901847, 0.05      ])\n",
      " array([0.05, 0.05, 0.05, 0.05])]\n",
      "\n",
      "0, initial freq point B:  [0.05 0.05 0.05 0.05]\n",
      ".......\n",
      "NelderMeadcomplete\n",
      "\n",
      "1, initial freq point B:  [0.05003811 0.05       0.04901847 0.05      ]\n",
      "....."
     ]
    }
   ],
   "source": [
    "optimal_params_L_2, optimal_params_B_2 = optimize_qubo(qubo, 2, optimal_params_L_1, optimal_params_B_1, 1)"
   ]
  },
  {
   "cell_type": "code",
   "execution_count": null,
   "metadata": {},
   "outputs": [],
   "source": [
    "print(optimal_params_L_1)\n",
    "print(optimal_params_B_1)"
   ]
  },
  {
   "cell_type": "code",
   "execution_count": 29,
   "metadata": {
    "scrolled": true
   },
   "outputs": [],
   "source": [
    "a = construct_QAOAcirc(1, op)"
   ]
  },
  {
   "cell_type": "code",
   "execution_count": 30,
   "metadata": {},
   "outputs": [
    {
     "data": {
      "text/plain": [
       "1"
      ]
     },
     "execution_count": 30,
     "metadata": {},
     "output_type": "execute_result"
    }
   ],
   "source": [
    "a[0]"
   ]
  },
  {
   "cell_type": "code",
   "execution_count": 32,
   "metadata": {},
   "outputs": [],
   "source": [
    "simulator = QasmSimulator(method = \"statevector_gpu\")"
   ]
  },
  {
   "cell_type": "code",
   "execution_count": 34,
   "metadata": {},
   "outputs": [
    {
     "name": "stdout",
     "output_type": "stream",
     "text": [
      ".CPU times: user 556 ms, sys: 0 ns, total: 556 ms\n",
      "Wall time: 556 ms\n"
     ]
    },
    {
     "data": {
      "text/plain": [
       "5.6"
      ]
     },
     "execution_count": 34,
     "metadata": {},
     "output_type": "execute_result"
    }
   ],
   "source": [
    "%%time\n",
    "expectation(a, qubo, np.array([0.05,0.05]))"
   ]
  },
  {
   "cell_type": "code",
   "execution_count": 37,
   "metadata": {},
   "outputs": [
    {
     "data": {
      "text/plain": [
       "SummedOp([PauliOp(Pauli(z=[True, False, False, False, False, False, False, False, False], x=[False, False, False, False, False, False, False, False, False]), coeff=-0.9041022908897177), PauliOp(Pauli(z=[False, True, False, False, False, False, False, False, False], x=[False, False, False, False, False, False, False, False, False]), coeff=-0.6670218433670753), PauliOp(Pauli(z=[False, False, True, False, False, False, False, False, False], x=[False, False, False, False, False, False, False, False, False]), coeff=-0.7682472029834843), PauliOp(Pauli(z=[False, False, False, True, False, False, False, False, False], x=[False, False, False, False, False, False, False, False, False]), coeff=-0.9041022908897177), PauliOp(Pauli(z=[False, False, False, False, True, False, False, False, False], x=[False, False, False, False, False, False, False, False, False]), coeff=-0.7362812999467236), PauliOp(Pauli(z=[False, False, False, False, False, True, False, False, False], x=[False, False, False, False, False, False, False, False, False]), coeff=-1.0), PauliOp(Pauli(z=[False, False, False, False, False, False, True, False, False], x=[False, False, False, False, False, False, False, False, False]), coeff=-0.9041022908897176), PauliOp(Pauli(z=[False, False, False, False, False, False, False, True, False], x=[False, False, False, False, False, False, False, False, False]), coeff=-0.9413958444326054), PauliOp(Pauli(z=[False, False, False, False, False, False, False, False, True], x=[False, False, False, False, False, False, False, False, False]), coeff=-0.9573787959509856), PauliOp(Pauli(z=[True, True, False, False, False, False, False, False, False], x=[False, False, False, False, False, False, False, False, False]), coeff=0.42194992008524246), PauliOp(Pauli(z=[True, False, True, False, False, False, False, False, False], x=[False, False, False, False, False, False, False, False, False]), coeff=0.42194992008524246), PauliOp(Pauli(z=[False, True, True, False, False, False, False, False, False], x=[False, False, False, False, False, False, False, False, False]), coeff=0.42194992008524246), PauliOp(Pauli(z=[True, False, False, True, False, False, False, False, False], x=[False, False, False, False, False, False, False, False, False]), coeff=0.07991475759190197), PauliOp(Pauli(z=[False, True, False, False, True, False, False, False, False], x=[False, False, False, False, False, False, False, False, False]), coeff=0.005327650506126798), PauliOp(Pauli(z=[False, False, True, False, True, False, False, False, False], x=[False, False, False, False, False, False, False, False, False]), coeff=0.03196590303676079), PauliOp(Pauli(z=[False, False, False, True, True, False, False, False, False], x=[False, False, False, False, False, False, False, False, False]), coeff=0.42194992008524246), PauliOp(Pauli(z=[True, False, False, False, False, True, False, False, False], x=[False, False, False, False, False, False, False, False, False]), coeff=0.053276505061267986), PauliOp(Pauli(z=[False, False, False, True, False, True, False, False, False], x=[False, False, False, False, False, False, False, False, False]), coeff=0.4752264251465104), PauliOp(Pauli(z=[False, False, False, False, True, True, False, False, False], x=[False, False, False, False, False, False, False, False, False]), coeff=0.42194992008524246), PauliOp(Pauli(z=[True, False, False, False, False, False, True, False, False], x=[False, False, False, False, False, False, False, False, False]), coeff=0.07991475759190197), PauliOp(Pauli(z=[False, False, False, True, False, False, True, False, False], x=[False, False, False, False, False, False, False, False, False]), coeff=0.07991475759190197), PauliOp(Pauli(z=[False, False, False, False, False, True, True, False, False], x=[False, False, False, False, False, False, False, False, False]), coeff=0.053276505061267986), PauliOp(Pauli(z=[True, False, False, False, False, False, False, True, False], x=[False, False, False, False, False, False, False, False, False]), coeff=0.055940330314331384), PauliOp(Pauli(z=[False, True, False, False, False, False, False, True, False], x=[False, False, False, False, False, False, False, False, False]), coeff=0.03196590303676079), PauliOp(Pauli(z=[False, False, False, True, False, False, False, True, False], x=[False, False, False, False, False, False, False, False, False]), coeff=0.055940330314331384), PauliOp(Pauli(z=[False, False, False, False, False, True, False, True, False], x=[False, False, False, False, False, False, False, False, False]), coeff=0.045285029302077784), PauliOp(Pauli(z=[False, False, False, False, False, False, True, True, False], x=[False, False, False, False, False, False, False, False, False]), coeff=0.47789025039957383), PauliOp(Pauli(z=[True, False, False, False, False, False, False, False, True], x=[False, False, False, False, False, False, False, False, False]), coeff=0.053276505061267986), PauliOp(Pauli(z=[False, True, False, False, False, False, False, False, True], x=[False, False, False, False, False, False, False, False, False]), coeff=0.005327650506126798), PauliOp(Pauli(z=[False, False, False, True, False, False, False, False, True], x=[False, False, False, False, False, False, False, False, False]), coeff=0.053276505061267986), PauliOp(Pauli(z=[False, False, False, False, False, True, False, False, True], x=[False, False, False, False, False, False, False, False, False]), coeff=0.053276505061267986), PauliOp(Pauli(z=[False, False, False, False, False, False, True, False, True], x=[False, False, False, False, False, False, False, False, False]), coeff=0.4752264251465104), PauliOp(Pauli(z=[False, False, False, False, False, False, False, True, True], x=[False, False, False, False, False, False, False, False, False]), coeff=0.46723494938732024)], coeff=1.0, abelian=False)"
      ]
     },
     "execution_count": 37,
     "metadata": {},
     "output_type": "execute_result"
    }
   ],
   "source": [
    "op"
   ]
  },
  {
   "cell_type": "code",
   "execution_count": 43,
   "metadata": {},
   "outputs": [
    {
     "name": "stdout",
     "output_type": "stream",
     "text": [
      "X1\n",
      "X2\n",
      "X3\n",
      "X4\n",
      "X5\n",
      "X6\n",
      "X7\n",
      "X8\n",
      "X9\n"
     ]
    }
   ],
   "source": [
    "def eval_cost(x, linear, quadratic):\n",
    "    x1 = int(x[0])\n",
    "    x2 = int(x[1])\n",
    "    x3 = int(x[2])\n",
    "    x4 = int(x[3])\n",
    "    x5 = int(x[4])\n",
    "    x6 = int(x[5])\n",
    "    x7 = int(x[6])\n",
    "    x8 = int(x[7])\n",
    "    x9 = int(x[8])\n",
    "    cost = 0\n",
    "    "
   ]
  },
  {
   "cell_type": "code",
   "execution_count": 77,
   "metadata": {},
   "outputs": [
    {
     "data": {
      "text/plain": [
       "\\ This file has been generated by DOcplex\n",
       "\\ ENCODING=ISO-8859-1\n",
       "\\Problem name: CPLEX\n",
       "\n",
       "Minimize\n",
       " obj: - 1.368140649973 X1 - 1.282898241875 X2 - 1.059136920618 X3\n",
       "      - 1.368140649973 X4 - 1.133724027704 X5 - 1.048481619606 X6\n",
       "      - 1.368140649973 X7 - 1.229621736814 X8 - 1.144379328716 X9 + [\n",
       "      1.687799680341 X1^2 + 3.375599360682 X1*X2 + 3.375599360682 X1*X3\n",
       "      + 0.639318060735 X1*X4 + 0.426212040490 X1*X6 + 0.639318060735 X1*X7\n",
       "      + 0.447522642515 X1*X8 + 0.426212040490 X1*X9 + 1.687799680341 X2^2\n",
       "      + 3.375599360682 X2*X3 + 0.042621204049 X2*X5 + 0.255727224294 X2*X8\n",
       "      + 0.042621204049 X2*X9 + 1.687799680341 X3^2 + 0.255727224294 X3*X5\n",
       "      + 1.687799680341 X4^2 + 3.375599360682 X4*X5 + 3.801811401172 X4*X6\n",
       "      + 0.639318060735 X4*X7 + 0.447522642515 X4*X8 + 0.426212040490 X4*X9\n",
       "      + 1.687799680341 X5^2 + 3.375599360682 X5*X6 + 1.687799680341 X6^2\n",
       "      + 0.426212040490 X6*X7 + 0.362280234417 X6*X8 + 0.426212040490 X6*X9\n",
       "      + 1.687799680341 X7^2 + 3.823122003197 X7*X8 + 3.801811401172 X7*X9\n",
       "      + 1.687799680341 X8^2 + 3.737879595099 X8*X9 + 1.687799680341 X9^2 ]/2 +\n",
       "      2.531699520511\n",
       "Subject To\n",
       "\n",
       "Bounds\n",
       " 0 <= X1 <= 1\n",
       " 0 <= X2 <= 1\n",
       " 0 <= X3 <= 1\n",
       " 0 <= X4 <= 1\n",
       " 0 <= X5 <= 1\n",
       " 0 <= X6 <= 1\n",
       " 0 <= X7 <= 1\n",
       " 0 <= X8 <= 1\n",
       " 0 <= X9 <= 1\n",
       "\n",
       "Binaries\n",
       " X1 X2 X3 X4 X5 X6 X7 X8 X9\n",
       "End"
      ]
     },
     "execution_count": 77,
     "metadata": {},
     "output_type": "execute_result"
    }
   ],
   "source": [
    "qubo"
   ]
  },
  {
   "cell_type": "code",
   "execution_count": 80,
   "metadata": {},
   "outputs": [
    {
     "data": {
      "text/plain": [
       "\\ This file has been generated by DOcplex\n",
       "\\ ENCODING=ISO-8859-1\n",
       "\\Problem name: CPLEX\n",
       "\n",
       "Minimize\n",
       " obj: - 1.368140649973 X1 - 1.282898241875 X2 - 1.059136920618 X3\n",
       "      - 1.368140649973 X4 - 1.133724027704 X5 - 1.048481619606 X6\n",
       "      - 1.368140649973 X7 - 1.229621736814 X8 - 1.144379328716 X9 + [\n",
       "      1.687799680341 X1^2 + 3.375599360682 X1*X2 + 3.375599360682 X1*X3\n",
       "      + 0.639318060735 X1*X4 + 0.426212040490 X1*X6 + 0.639318060735 X1*X7\n",
       "      + 0.447522642515 X1*X8 + 0.426212040490 X1*X9 + 1.687799680341 X2^2\n",
       "      + 3.375599360682 X2*X3 + 0.042621204049 X2*X5 + 0.255727224294 X2*X8\n",
       "      + 0.042621204049 X2*X9 + 1.687799680341 X3^2 + 0.255727224294 X3*X5\n",
       "      + 1.687799680341 X4^2 + 3.375599360682 X4*X5 + 3.801811401172 X4*X6\n",
       "      + 0.639318060735 X4*X7 + 0.447522642515 X4*X8 + 0.426212040490 X4*X9\n",
       "      + 1.687799680341 X5^2 + 3.375599360682 X5*X6 + 1.687799680341 X6^2\n",
       "      + 0.426212040490 X6*X7 + 0.362280234417 X6*X8 + 0.426212040490 X6*X9\n",
       "      + 1.687799680341 X7^2 + 3.823122003197 X7*X8 + 3.801811401172 X7*X9\n",
       "      + 1.687799680341 X8^2 + 3.737879595099 X8*X9 + 1.687799680341 X9^2 ]/2 +\n",
       "      2.531699520511\n",
       "Subject To\n",
       "\n",
       "Bounds\n",
       " 0 <= X1 <= 1\n",
       " 0 <= X2 <= 1\n",
       " 0 <= X3 <= 1\n",
       " 0 <= X4 <= 1\n",
       " 0 <= X5 <= 1\n",
       " 0 <= X6 <= 1\n",
       " 0 <= X7 <= 1\n",
       " 0 <= X8 <= 1\n",
       " 0 <= X9 <= 1\n",
       "\n",
       "Binaries\n",
       " X1 X2 X3 X4 X5 X6 X7 X8 X9\n",
       "End"
      ]
     },
     "execution_count": 80,
     "metadata": {},
     "output_type": "execute_result"
    }
   ],
   "source": [
    "qubo"
   ]
  },
  {
   "cell_type": "code",
   "execution_count": 86,
   "metadata": {},
   "outputs": [],
   "source": [
    "x = '110100010'"
   ]
  },
  {
   "cell_type": "code",
   "execution_count": 87,
   "metadata": {},
   "outputs": [
    {
     "data": {
      "text/plain": [
       "[0, 1, 0, 0, 0, 1, 0, 1, 1]"
      ]
     },
     "execution_count": 87,
     "metadata": {},
     "output_type": "execute_result"
    }
   ],
   "source": [
    "[int(x[no_qubits-1-i]) for i in range(no_qubits)]"
   ]
  },
  {
   "cell_type": "code",
   "execution_count": null,
   "metadata": {},
   "outputs": [],
   "source": []
  }
 ],
 "metadata": {
  "kernelspec": {
   "display_name": "Python 3.8.5 64-bit ('QC': conda)",
   "language": "python",
   "name": "python38564bitqcconda94d87b2371784b85b00c9b81b39825ac"
  },
  "language_info": {
   "codemirror_mode": {
    "name": "ipython",
    "version": 3
   },
   "file_extension": ".py",
   "mimetype": "text/x-python",
   "name": "python",
   "nbconvert_exporter": "python",
   "pygments_lexer": "ipython3",
   "version": "3.8.5"
  }
 },
 "nbformat": 4,
 "nbformat_minor": 4
}

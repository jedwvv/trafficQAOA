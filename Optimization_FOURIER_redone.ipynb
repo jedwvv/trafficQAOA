{
 "cells": [
  {
   "cell_type": "code",
   "execution_count": null,
   "metadata": {},
   "outputs": [],
   "source": [
    "# Import Required Packages\n",
    "%matplotlib inline\n",
    "import numpy as np\n",
    "#import networkx as nx\n",
    "import time\n",
    "import random\n",
    "import json\n",
    "import pickle\n",
    "import matplotlib as mpl\n",
    "import matplotlib.pyplot as plt\n",
    "from matplotlib import cm\n",
    "from sympy import *\n",
    "from tqdm.notebook import tqdm\n",
    "\n",
    "#From Qiskit library\n",
    "from qiskit import *\n",
    "from qiskit.visualization import *\n",
    "from qiskit import IBMQ\n",
    "from qiskit import BasicAer\n",
    "from qiskit import Aer, execute\n",
    "from qiskit.tools.visualization import plot_histogram, plot_state_city\n",
    "from qiskit.aqua.algorithms import QAOA, NumPyMinimumEigensolver\n",
    "from qiskit.optimization.algorithms import MinimumEigenOptimizer, RecursiveMinimumEigenOptimizer\n",
    "from qiskit.optimization import QuadraticProgram\n",
    "from qiskit.optimization.converters import QuadraticProgramToQubo\n",
    "from qiskit.quantum_info import Statevector\n",
    "from qiskit.providers.aer import StatevectorSimulator, QasmSimulator\n",
    "from qiskit.circuit import Parameter\n",
    "from qiskit.optimization.converters import IsingToQuadraticProgram\n",
    "from qiskit.aqua.components.optimizers import NELDER_MEAD, CRS, ADAM"
   ]
  },
  {
   "cell_type": "code",
   "execution_count": null,
   "metadata": {},
   "outputs": [],
   "source": [
    "qiskit.qiskit.__qiskit_version__"
   ]
  },
  {
   "cell_type": "code",
   "execution_count": null,
   "metadata": {},
   "outputs": [],
   "source": [
    "#Function: Load JSON file\n",
    "def loadjson( filename ):\n",
    "    loaded_file = open(filename, \"r\")\n",
    "    json_data = json.load(loaded_file)\n",
    "    loaded_file.close()\n",
    "    return json_data\n",
    "\n",
    "#Function: Load Pickle file\n",
    "def loadpkl( filename ):\n",
    "    loaded_file = open(filename, \"rb\")\n",
    "    pkl_data = pickle.load( loaded_file )\n",
    "    loaded_file.close()\n",
    "    return pkl_data\n",
    "\n",
    "#Function: Get single term coefficients (to 4 decimal places) from Sympy Expression \n",
    "def get_coeff( variable, expression ):\n",
    "    poly = Poly(expression.coeff(variable), domain = 'RR')\n",
    "    return round(float(poly.coeffs()[len(poly.coeffs())-1]), 4)\n",
    "\n",
    "#Function: Get coefficient of quadratic term (to 4 decimal places) from Sympy Expression\n",
    "def quad_coeff( var_1, var_2, expression ):\n",
    "    return round(float(expression.coeff(var_1).coeff(var_2)), 4)"
   ]
  },
  {
   "cell_type": "code",
   "execution_count": null,
   "metadata": {},
   "outputs": [],
   "source": [
    "pwd"
   ]
  },
  {
   "cell_type": "code",
   "execution_count": null,
   "metadata": {},
   "outputs": [],
   "source": [
    "import sys\n",
    "sys.executable"
   ]
  },
  {
   "cell_type": "code",
   "execution_count": null,
   "metadata": {},
   "outputs": [],
   "source": [
    "#Read and store files into variables\n",
    "car_routes = loadjson( \"3cars3routes.json\" )\n",
    "# H = loadjson( \"Hamiltonian9qbits.json\")\n",
    "[objective, Ham, objective_normed, Ham_normed] = loadpkl(\"expressions.pkl\")\n",
    "[total_cost, constraints] = loadpkl(\"cost_constraints.pkl\")"
   ]
  },
  {
   "cell_type": "code",
   "execution_count": null,
   "metadata": {},
   "outputs": [],
   "source": [
    "Q = IndexedBase('Q')\n",
    "car_routes_variables = {}\n",
    "for route in car_routes:\n",
    "    car_routes_variables[route] = Q[route[3],route[10]]\n",
    "car_routes_variables"
   ]
  },
  {
   "cell_type": "code",
   "execution_count": null,
   "metadata": {},
   "outputs": [],
   "source": [
    "no_routes = 3\n",
    "no_cars = 3\n",
    "no_qubits = no_routes * no_cars"
   ]
  },
  {
   "cell_type": "code",
   "execution_count": null,
   "metadata": {},
   "outputs": [],
   "source": [
    "#Associate binary variable to each Q11, Q12, etc with one index for QuadraticProgram class\n",
    "binary_vars = {}\n",
    "for variable in car_routes_variables:\n",
    "    binary_vars[car_routes_variables[variable]] = 'X' + str(no_routes*(int(variable[3])-1)+int(variable[10]))\n",
    "Qvariables = tuple(binary_vars.keys())\n",
    "Xvariables = tuple(binary_vars.values())"
   ]
  },
  {
   "cell_type": "code",
   "execution_count": null,
   "metadata": {},
   "outputs": [],
   "source": [
    "#Construct Quadratic Problem using known (quadratic) objective function\n",
    "qubo1 = QuadraticProgram()\n",
    "linear = []\n",
    "for variable in car_routes_variables.values():\n",
    "    qubo1.binary_var( binary_vars[variable] )\n",
    "    linear.append( get_coeff(variable, objective) )\n",
    "quadratic = {}\n",
    "for i in range(no_qubits):\n",
    "    for j in range(i+1, no_qubits):\n",
    "        pairing = ( Xvariables[i], Xvariables[j] )\n",
    "        coeff = quad_coeff( Qvariables[i], Qvariables[j], objective )\n",
    "        if int(coeff) != 0:\n",
    "            quadratic[pairing] = coeff\n",
    "qubo1.minimize(linear = linear, quadratic = quadratic)"
   ]
  },
  {
   "cell_type": "code",
   "execution_count": null,
   "metadata": {},
   "outputs": [],
   "source": [
    "op, offset = qubo1.to_ising()"
   ]
  },
  {
   "cell_type": "code",
   "execution_count": null,
   "metadata": {},
   "outputs": [],
   "source": [
    "coeffs = [abs(op.oplist[i].coeff) for i in range(len(op.oplist))]\n",
    "norm_factor = np.amax(coeffs)"
   ]
  },
  {
   "cell_type": "code",
   "execution_count": null,
   "metadata": {},
   "outputs": [],
   "source": [
    "#Normalised objective function\n",
    "qubo = QuadraticProgram()\n",
    "linear = []\n",
    "for variable in car_routes_variables.values():\n",
    "    qubo.binary_var( binary_vars[variable] )\n",
    "    linear.append( (get_coeff(variable, objective)/norm_factor) )\n",
    "quadratic = {}\n",
    "for i in range(no_qubits):\n",
    "    for j in range(i+1, no_qubits):\n",
    "        pairing = ( Xvariables[i], Xvariables[j] )\n",
    "        coeff = quad_coeff( Qvariables[i], Qvariables[j], objective )\n",
    "        if int(coeff) != 0:\n",
    "            quadratic[pairing] = (coeff/norm_factor)\n",
    "qubo.minimize(linear = linear, quadratic = quadratic)"
   ]
  },
  {
   "cell_type": "code",
   "execution_count": null,
   "metadata": {},
   "outputs": [],
   "source": [
    "op, offset = qubo.to_ising()"
   ]
  },
  {
   "cell_type": "code",
   "execution_count": null,
   "metadata": {},
   "outputs": [],
   "source": [
    "print(op)"
   ]
  },
  {
   "cell_type": "code",
   "execution_count": null,
   "metadata": {},
   "outputs": [],
   "source": [
    "qaoa_mes = QAOA(quantum_instance=Aer.get_backend('statevector_simulator'))\n",
    "exact_mes = NumPyMinimumEigensolver()\n",
    "qaoa = MinimumEigenOptimizer(qaoa_mes)   # using QAOA\n",
    "exact = MinimumEigenOptimizer(exact_mes)  # using the exact classical numpy minimum eigen solver"
   ]
  },
  {
   "cell_type": "code",
   "execution_count": null,
   "metadata": {},
   "outputs": [],
   "source": [
    "%%time\n",
    "exact_result = exact.solve(qubo)\n",
    "print(exact_result)"
   ]
  },
  {
   "cell_type": "code",
   "execution_count": null,
   "metadata": {},
   "outputs": [],
   "source": [
    "def eval_cost(x, linear, quadratic):\n",
    "    x1 = int(x[0])\n",
    "    x2 = int(x[1])\n",
    "    x3 = int(x[2])\n",
    "    x4 = int(x[3])\n",
    "    x5 = int(x[4])\n",
    "    x6 = int(x[5])\n",
    "    x7 = int(x[6])\n",
    "    x8 = int(x[7])\n",
    "    x9 = int(x[8])\n",
    "    cost = 0\n",
    "    for i in range(len(linear)):\n",
    "        cost += int(x[no_qubits-i-1])*linear[i]\n",
    "    for term in quadratic:\n",
    "        i = int(term[0][1])-1\n",
    "        j = int(term[1][1])-1\n",
    "        cost += int(x[no_qubits-i-1])*int(x[no_qubits-j-1])*quadratic[term]\n",
    "    return cost"
   ]
  },
  {
   "cell_type": "code",
   "execution_count": null,
   "metadata": {},
   "outputs": [],
   "source": [
    "#Print first 20 lowest states\n",
    "values = {}\n",
    "for k in range(2**9):\n",
    "    string = '{0:09b}'.format(k)\n",
    "    values[string] = eval_cost(string, linear, quadratic)\n",
    "sort_values = sorted(values.items(), key=lambda x: x[1])\n",
    "i=0\n",
    "for string, cost in sort_values:\n",
    "    print(string, round(cost,3), string[0:3].count('1')==1 and string[3:6].count('1')==1 and string[6:9].count('1')==1)\n",
    "    i += 1\n",
    "    if i == 20:\n",
    "        break"
   ]
  },
  {
   "cell_type": "code",
   "execution_count": null,
   "metadata": {},
   "outputs": [],
   "source": [
    "#Use statevector with GPU to simulate slightly faster for less than ~25 qubits\n",
    "#If more than 25 qubits, use method = \"statevector\" (CPU) instead.\n",
    "\n",
    "simulator = QasmSimulator()\n",
    "optimizer = NELDER_MEAD(maxiter = 2)"
   ]
  },
  {
   "cell_type": "code",
   "execution_count": null,
   "metadata": {},
   "outputs": [],
   "source": [
    "#Construct QAOA circuit of size p given operator from qubo problem ( operator is obtained from QuadraticProblem.to_ising() )\n",
    "def construct_QAOAcirc( p, operator ):\n",
    "    #Initialise parameter list\n",
    "    params_expr = []\n",
    "    \n",
    "    #Create arbitrary \"gamma_n\" parameters\n",
    "    for a in range(p):\n",
    "        params_expr.append( Parameter('a'+str(a+1)) )\n",
    "    #Likewise for \"beta_n\" parameters\n",
    "    for b in range(p):\n",
    "        params_expr.append( Parameter('b'+str(b+1)) )\n",
    "        \n",
    "    #Create circuit given operator, gamma, and beta parameters\n",
    "    qaoa = QAOA(operator = operator, p=p, quantum_instance=Aer.get_backend('qasm_simulator'))\n",
    "    circuit = qaoa.construct_circuit( params_expr[0:2*p] )[0]\n",
    "    circuit.measure_active()\n",
    "    return p, params_expr, circuit\n",
    "\n",
    "\n",
    "#Find expectation value, given qaoa_circuit, qubo_problem and freq_params (u1, u2, ... , v1, v2, ...)\n",
    "def expectation( qaoa_circuit, qubo_problem, freq_params ):\n",
    "    \n",
    "    #unload p, params_expr, circuit from the return value of contruct_QAOAcirc\n",
    "    p = int(qaoa_circuit[0])\n",
    "    params_expr = qaoa_circuit[1]\n",
    "    circuit = qaoa_circuit[2]\n",
    "    params = convert_fourier_parameters(p,p,freq_params)\n",
    "    if len(params) != 2*p:\n",
    "        print(\"Must have len(params) = 2*no_layers\")\n",
    "    else:    \n",
    "        circuit2 = circuit.assign_parameters({params_expr[i]: params[i] for i in range(len(params))}, inplace = False)\n",
    "        no_shots = 100000\n",
    "        result = execute(circuit2, simulator, shots = no_shots).result()\n",
    "        counts = result.get_counts()\n",
    "        exp_val = []\n",
    "        for state in counts:\n",
    "            a = counts[state]\n",
    "            b = eval_cost(state, linear, quadratic)\n",
    "            exp_val.append(a*b)        \n",
    "        exp_val = np.sum(exp_val)/no_shots\n",
    "        print(\".\", end = \"\")\n",
    "        return np.round(exp_val, decimals = 1)\n",
    "\n",
    "#Convert frequency parameters to standard gamma and beta parameters\n",
    "def convert_fourier_parameters(p , q, frequency_parameters):\n",
    "    u_params = np.array(frequency_parameters[0:q], dtype = float)\n",
    "    v_params = np.array(frequency_parameters[q:2*q], dtype = float)\n",
    "    gamma_params = np.empty((p,), dtype = np.float32)\n",
    "    beta_params = np.empty((p,), dtype = np.float32)\n",
    "    for i in range(p):\n",
    "        gamma_inter, beta_inter = 0,0\n",
    "        a = (i+0.5)*np.pi/p\n",
    "        for k in range(q):\n",
    "            gamma_inter += u_params[k]*np.sin( (k+0.5)*a )\n",
    "            beta_inter += v_params[k]*np.cos( (k+0.5)*a )\n",
    "        gamma_params[i] = gamma_inter\n",
    "        beta_params[i] = beta_inter\n",
    "    return np.append(gamma_params, beta_params)"
   ]
  },
  {
   "cell_type": "markdown",
   "metadata": {},
   "source": [
    "Inputs: QAOA problem, no_layers, u_v_L, u_v_B, no_perturb\n",
    "\n",
    "1. Unload operator from QAOA problem\n",
    "2. Construct circuit with parameters for no_layers\n",
    "3. Generate no_perturb number of parameters about u_v_B\n",
    "4. Optimize around the u_v_L, u_v_B, and the perturbed u_v_B's\n",
    "5. Choose best for the new u_v_B, and also the new u_v_L\n",
    "6. Return the new u_v_B, and the new u_v_B\n",
    "\n",
    "Note: Make sure u_v_L = (u1, u2, ..., v1, v2, ...) has 2*(no_layers - 1) "
   ]
  },
  {
   "cell_type": "code",
   "execution_count": null,
   "metadata": {},
   "outputs": [],
   "source": [
    "def optimize_qubo(qubo_problem, p, freq_optimal_params_L, freq_optimal_params_B, no_perturb):\n",
    "    perturb_scale_factor = 0.6\n",
    "    op, offset = qubo_problem.to_ising()\n",
    "    generator = np.random.default_rng()\n",
    "    variable_bounds = [ (-np.pi/2, np.pi/2) for _ in range(2*p)]\n",
    "    if len(freq_optimal_params_L) != len(freq_optimal_params_B) and len(freq_optimal_params_B) != (p-1)*2:\n",
    "        print('Check number of input parameters are correct')\n",
    "        return None\n",
    "    \n",
    "    #Construct circuit\n",
    "    print(f'Step {p}: Building circuit...')\n",
    "    circuit = construct_QAOAcirc(p, op)\n",
    "    \n",
    "    #New initial points generated from previous initial points\n",
    "    params = np.zeros(shape = (2*p,), dtype=float)+0.05  \n",
    "    initial_freq_params_L = params.copy()\n",
    "    initial_freq_params_B_0 = params.copy()\n",
    "    initial_freq_params_L[0:p-1] = freq_optimal_params_L[0:p-1]\n",
    "    initial_freq_params_L[p:2*p-1] = freq_optimal_params_L[p-1:2*p-2]\n",
    "    initial_freq_params_B_0[0:p-1] = freq_optimal_params_B[0:p-1]\n",
    "    initial_freq_params_B_0[p:2*p-1] = freq_optimal_params_B[p-1:2*p-2]\n",
    "    \n",
    "    #Generate perturbed initial points     \n",
    "    if p != 1:\n",
    "        initial_freq_params_B = np.empty(shape = (no_perturb+2, ), dtype = object)\n",
    "        initial_freq_params_B[0] = initial_freq_params_B_0\n",
    "        u_random = np.array([np.array(generator.normal(0, freq_optimal_params_B[i]**2, no_perturb+1)) for i in range(0,p-1)])\n",
    "        v_random = np.array([np.array(generator.normal(0, freq_optimal_params_B[i]**2, no_perturb+1)) for i in range(p-1,2*p-2)])\n",
    "        m = len(initial_freq_params_B)\n",
    "        for j in range(1,m-1):\n",
    "            perturbed_params = params.copy()\n",
    "            perturbed_params[0:p-1] = initial_freq_params_B_0[0:p-1] + perturb_scale_factor*u_random[:,j]\n",
    "            perturbed_params[p:2*p-1] = initial_freq_params_B_0[p:2*p-1] + perturb_scale_factor*v_random[:,j]\n",
    "            initial_freq_params_B[j] = perturbed_params\n",
    "        initial_freq_params_B[m-1] = initial_freq_params_B[0]\n",
    "        \n",
    "    print(f'Step {p}: Now optimising parameters (Nelder-Mead)...')\n",
    "    ##Define obj_function that inputs only parameters\n",
    "    obj_expectation = lambda x: expectation( circuit, qubo_problem, x ) \n",
    "    print('\\n'+'initial freq point L:', initial_freq_params_L)\n",
    "    optimal_result = optimizer.optimize(num_vars = 2*p,\n",
    "                                        objective_function = obj_expectation,\n",
    "                                        variable_bounds = variable_bounds, \n",
    "                                        initial_point = initial_freq_params_L)\n",
    "    optimal_params_L, exp_val_L, no_evals = optimal_result\n",
    "    \n",
    "    if p == 1:\n",
    "        optimal_params_B, exp_val_B = optimal_params_L, exp_val_L\n",
    "    \n",
    "    else:\n",
    "        perturbed_params = [optimal_params_L]\n",
    "        perturbed_exp_vals = [exp_val_L]\n",
    "        print(initial_freq_params_B)\n",
    "        for l in range(m):\n",
    "            print('\\n'+f'{l}, initial freq point B: ', initial_freq_params_B[l])\n",
    "            if l == m-1:\n",
    "                break\n",
    "            perturbed_optimal_result = optimizer.optimize(num_vars = 2*p,\n",
    "                                    objective_function = obj_expectation,\n",
    "                                    variable_bounds= variable_bounds, \n",
    "                                    initial_point=initial_freq_params_B[l])\n",
    "            print('\\nNelderMeadcomplete')\n",
    "            perturbed_optimal_params, perturbed_optimal_expval = perturbed_optimal_result[0:2] \n",
    "            perturbed_params.append(perturbed_optimal_params)\n",
    "            perturbed_exp_vals.append(perturbed_exp_vals)\n",
    "        exp_val_B = np.amin(perturbed_exp_vals)\n",
    "        minim_index = np.awhere(perturbed_exp_vals == exp_val_B)[0][0]\n",
    "        optimal_params_B = perturbed_params[minim_index]\n",
    "    \n",
    "    return optimal_params_L, optimal_params_B"
   ]
  },
  {
   "cell_type": "code",
   "execution_count": null,
   "metadata": {
    "scrolled": false
   },
   "outputs": [],
   "source": [
    "optimal_params_L_1, optimal_params_B_1 = optimize_qubo(qubo, 1, [], [], 1)"
   ]
  },
  {
   "cell_type": "code",
   "execution_count": null,
   "metadata": {},
   "outputs": [],
   "source": [
    "optimal_params_L_2, optimal_params_B_2 = optimize_qubo(qubo, 2, optimal_params_L_1, optimal_params_B_1, 1)"
   ]
  },
  {
   "cell_type": "code",
   "execution_count": null,
   "metadata": {},
   "outputs": [],
   "source": [
    "print(optimal_params_L_1)\n",
    "print(optimal_params_B_1)"
   ]
  },
  {
   "cell_type": "code",
   "execution_count": null,
   "metadata": {
    "scrolled": true
   },
   "outputs": [],
   "source": [
    "a = construct_QAOAcirc(1, op)"
   ]
  },
  {
   "cell_type": "code",
   "execution_count": null,
   "metadata": {},
   "outputs": [],
   "source": [
    "a[0]"
   ]
  },
  {
   "cell_type": "code",
   "execution_count": null,
   "metadata": {},
   "outputs": [],
   "source": [
    "simulator = QasmSimulator(method = \"statevector_gpu\")"
   ]
  },
  {
   "cell_type": "code",
   "execution_count": null,
   "metadata": {
    "scrolled": true
   },
   "outputs": [],
   "source": [
    "%%time\n",
    "expectation(a, qubo, np.array([0.05,0.05]))"
   ]
  },
  {
   "cell_type": "code",
   "execution_count": null,
   "metadata": {},
   "outputs": [],
   "source": []
  }
 ],
 "metadata": {
  "kernelspec": {
   "display_name": "Python 3.8.5 64-bit ('QC': conda)",
   "language": "python",
   "name": "python38564bitqcconda94d87b2371784b85b00c9b81b39825ac"
  },
  "language_info": {
   "codemirror_mode": {
    "name": "ipython",
    "version": 3
   },
   "file_extension": ".py",
   "mimetype": "text/x-python",
   "name": "python",
   "nbconvert_exporter": "python",
   "pygments_lexer": "ipython3",
   "version": "3.8.5"
  }
 },
 "nbformat": 4,
 "nbformat_minor": 4
}
